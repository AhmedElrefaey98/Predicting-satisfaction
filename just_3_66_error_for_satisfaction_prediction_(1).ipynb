{
  "nbformat": 4,
  "nbformat_minor": 0,
  "metadata": {
    "kernelspec": {
      "language": "python",
      "display_name": "Python 3",
      "name": "python3"
    },
    "language_info": {
      "pygments_lexer": "ipython3",
      "nbconvert_exporter": "python",
      "version": "3.6.4",
      "file_extension": ".py",
      "codemirror_mode": {
        "name": "ipython",
        "version": 3
      },
      "name": "python",
      "mimetype": "text/x-python"
    },
    "colab": {
      "name": "just-3-66-error-for-satisfaction-prediction (1).ipynb",
      "provenance": [],
      "toc_visible": true,
      "include_colab_link": true
    }
  },
  "cells": [
    {
      "cell_type": "markdown",
      "metadata": {
        "id": "view-in-github",
        "colab_type": "text"
      },
      "source": [
        "<a href=\"https://colab.research.google.com/github/AhmedElrifo/Predicting-satisfaction/blob/master/just_3_66_error_for_satisfaction_prediction_(1).ipynb\" target=\"_parent\"><img src=\"https://colab.research.google.com/assets/colab-badge.svg\" alt=\"Open In Colab\"/></a>"
      ]
    },
    {
      "cell_type": "code",
      "metadata": {
        "_uuid": "0d499d2d-b29b-44a4-85e8-c84a8b35103d",
        "_cell_guid": "a2b737f5-57f3-4c28-8cc5-a45dcca2ca85",
        "trusted": true,
        "id": "H7RMIKOHQh1I",
        "colab_type": "code",
        "colab": {}
      },
      "source": [
        "# This Python 3 environment comes with many helpful analytics libraries installed\n",
        "# It is defined by the kaggle/python Docker image: https://github.com/kaggle/docker-python\n",
        "# For example, here's several helpful packages to load\n",
        "\n",
        "import numpy as np # linear algebra\n",
        "import pandas as pd # data processing, CSV file I/O (e.g. pd.read_csv)\n",
        "\n",
        "# Input data files are available in the read-only \"../input/\" directory\n",
        "# For example, running this (by clicking run or pressing Shift+Enter) will list all files under the input directory\n",
        "\n",
        "\n",
        "\n",
        "# You can write up to 5GB to the current directory (/kaggle/working/) that gets preserved as output when you create a version using \"Save & Run All\" \n",
        "# You can also write temporary files to /kaggle/temp/, but they won't be saved outside of the current session"
      ],
      "execution_count": 1,
      "outputs": []
    },
    {
      "cell_type": "code",
      "metadata": {
        "_uuid": "fac76ba5-9870-42d9-8458-c704a7d64b0f",
        "_cell_guid": "52c79e06-3478-4341-8a86-1ee54da53b18",
        "trusted": true,
        "id": "vpiyYPTTQh1O",
        "colab_type": "code",
        "colab": {
          "base_uri": "https://localhost:8080/",
          "height": 360
        },
        "outputId": "0b9b9068-e67f-4bb0-bbc7-0cc23a55846b"
      },
      "source": [
        "train_df=pd.read_csv('/content/train[1].csv')\n",
        "test_df=pd.read_csv('/content/test[1].csv')\n",
        "train_df.head()"
      ],
      "execution_count": 2,
      "outputs": [
        {
          "output_type": "execute_result",
          "data": {
            "text/html": [
              "<div>\n",
              "<style scoped>\n",
              "    .dataframe tbody tr th:only-of-type {\n",
              "        vertical-align: middle;\n",
              "    }\n",
              "\n",
              "    .dataframe tbody tr th {\n",
              "        vertical-align: top;\n",
              "    }\n",
              "\n",
              "    .dataframe thead th {\n",
              "        text-align: right;\n",
              "    }\n",
              "</style>\n",
              "<table border=\"1\" class=\"dataframe\">\n",
              "  <thead>\n",
              "    <tr style=\"text-align: right;\">\n",
              "      <th></th>\n",
              "      <th>Unnamed: 0</th>\n",
              "      <th>id</th>\n",
              "      <th>Gender</th>\n",
              "      <th>Customer Type</th>\n",
              "      <th>Age</th>\n",
              "      <th>Type of Travel</th>\n",
              "      <th>Class</th>\n",
              "      <th>Flight Distance</th>\n",
              "      <th>Inflight wifi service</th>\n",
              "      <th>Departure/Arrival time convenient</th>\n",
              "      <th>Ease of Online booking</th>\n",
              "      <th>Gate location</th>\n",
              "      <th>Food and drink</th>\n",
              "      <th>Online boarding</th>\n",
              "      <th>Seat comfort</th>\n",
              "      <th>Inflight entertainment</th>\n",
              "      <th>On-board service</th>\n",
              "      <th>Leg room service</th>\n",
              "      <th>Baggage handling</th>\n",
              "      <th>Checkin service</th>\n",
              "      <th>Inflight service</th>\n",
              "      <th>Cleanliness</th>\n",
              "      <th>Departure Delay in Minutes</th>\n",
              "      <th>Arrival Delay in Minutes</th>\n",
              "      <th>satisfaction</th>\n",
              "    </tr>\n",
              "  </thead>\n",
              "  <tbody>\n",
              "    <tr>\n",
              "      <th>0</th>\n",
              "      <td>0</td>\n",
              "      <td>70172</td>\n",
              "      <td>Male</td>\n",
              "      <td>Loyal Customer</td>\n",
              "      <td>13</td>\n",
              "      <td>Personal Travel</td>\n",
              "      <td>Eco Plus</td>\n",
              "      <td>460</td>\n",
              "      <td>3</td>\n",
              "      <td>4</td>\n",
              "      <td>3</td>\n",
              "      <td>1</td>\n",
              "      <td>5</td>\n",
              "      <td>3</td>\n",
              "      <td>5</td>\n",
              "      <td>5</td>\n",
              "      <td>4</td>\n",
              "      <td>3</td>\n",
              "      <td>4</td>\n",
              "      <td>4</td>\n",
              "      <td>5</td>\n",
              "      <td>5</td>\n",
              "      <td>25</td>\n",
              "      <td>18.0</td>\n",
              "      <td>neutral or dissatisfied</td>\n",
              "    </tr>\n",
              "    <tr>\n",
              "      <th>1</th>\n",
              "      <td>1</td>\n",
              "      <td>5047</td>\n",
              "      <td>Male</td>\n",
              "      <td>disloyal Customer</td>\n",
              "      <td>25</td>\n",
              "      <td>Business travel</td>\n",
              "      <td>Business</td>\n",
              "      <td>235</td>\n",
              "      <td>3</td>\n",
              "      <td>2</td>\n",
              "      <td>3</td>\n",
              "      <td>3</td>\n",
              "      <td>1</td>\n",
              "      <td>3</td>\n",
              "      <td>1</td>\n",
              "      <td>1</td>\n",
              "      <td>1</td>\n",
              "      <td>5</td>\n",
              "      <td>3</td>\n",
              "      <td>1</td>\n",
              "      <td>4</td>\n",
              "      <td>1</td>\n",
              "      <td>1</td>\n",
              "      <td>6.0</td>\n",
              "      <td>neutral or dissatisfied</td>\n",
              "    </tr>\n",
              "    <tr>\n",
              "      <th>2</th>\n",
              "      <td>2</td>\n",
              "      <td>110028</td>\n",
              "      <td>Female</td>\n",
              "      <td>Loyal Customer</td>\n",
              "      <td>26</td>\n",
              "      <td>Business travel</td>\n",
              "      <td>Business</td>\n",
              "      <td>1142</td>\n",
              "      <td>2</td>\n",
              "      <td>2</td>\n",
              "      <td>2</td>\n",
              "      <td>2</td>\n",
              "      <td>5</td>\n",
              "      <td>5</td>\n",
              "      <td>5</td>\n",
              "      <td>5</td>\n",
              "      <td>4</td>\n",
              "      <td>3</td>\n",
              "      <td>4</td>\n",
              "      <td>4</td>\n",
              "      <td>4</td>\n",
              "      <td>5</td>\n",
              "      <td>0</td>\n",
              "      <td>0.0</td>\n",
              "      <td>satisfied</td>\n",
              "    </tr>\n",
              "    <tr>\n",
              "      <th>3</th>\n",
              "      <td>3</td>\n",
              "      <td>24026</td>\n",
              "      <td>Female</td>\n",
              "      <td>Loyal Customer</td>\n",
              "      <td>25</td>\n",
              "      <td>Business travel</td>\n",
              "      <td>Business</td>\n",
              "      <td>562</td>\n",
              "      <td>2</td>\n",
              "      <td>5</td>\n",
              "      <td>5</td>\n",
              "      <td>5</td>\n",
              "      <td>2</td>\n",
              "      <td>2</td>\n",
              "      <td>2</td>\n",
              "      <td>2</td>\n",
              "      <td>2</td>\n",
              "      <td>5</td>\n",
              "      <td>3</td>\n",
              "      <td>1</td>\n",
              "      <td>4</td>\n",
              "      <td>2</td>\n",
              "      <td>11</td>\n",
              "      <td>9.0</td>\n",
              "      <td>neutral or dissatisfied</td>\n",
              "    </tr>\n",
              "    <tr>\n",
              "      <th>4</th>\n",
              "      <td>4</td>\n",
              "      <td>119299</td>\n",
              "      <td>Male</td>\n",
              "      <td>Loyal Customer</td>\n",
              "      <td>61</td>\n",
              "      <td>Business travel</td>\n",
              "      <td>Business</td>\n",
              "      <td>214</td>\n",
              "      <td>3</td>\n",
              "      <td>3</td>\n",
              "      <td>3</td>\n",
              "      <td>3</td>\n",
              "      <td>4</td>\n",
              "      <td>5</td>\n",
              "      <td>5</td>\n",
              "      <td>3</td>\n",
              "      <td>3</td>\n",
              "      <td>4</td>\n",
              "      <td>4</td>\n",
              "      <td>3</td>\n",
              "      <td>3</td>\n",
              "      <td>3</td>\n",
              "      <td>0</td>\n",
              "      <td>0.0</td>\n",
              "      <td>satisfied</td>\n",
              "    </tr>\n",
              "  </tbody>\n",
              "</table>\n",
              "</div>"
            ],
            "text/plain": [
              "   Unnamed: 0      id  ... Arrival Delay in Minutes             satisfaction\n",
              "0           0   70172  ...                     18.0  neutral or dissatisfied\n",
              "1           1    5047  ...                      6.0  neutral or dissatisfied\n",
              "2           2  110028  ...                      0.0                satisfied\n",
              "3           3   24026  ...                      9.0  neutral or dissatisfied\n",
              "4           4  119299  ...                      0.0                satisfied\n",
              "\n",
              "[5 rows x 25 columns]"
            ]
          },
          "metadata": {
            "tags": []
          },
          "execution_count": 2
        }
      ]
    },
    {
      "cell_type": "markdown",
      "metadata": {
        "_uuid": "1ea49500-b4ad-43e3-a9eb-ed9ca24f2cf8",
        "_cell_guid": "ef7202cb-b45b-43d0-9cc8-9eff3d5cec2f",
        "trusted": true,
        "id": "ZGnLV3FjQh1S",
        "colab_type": "text"
      },
      "source": [
        "# Exploraory analysis"
      ]
    },
    {
      "cell_type": "code",
      "metadata": {
        "_uuid": "f06a933f-287a-4401-b0ec-23987b290152",
        "_cell_guid": "c04bea23-1952-4d1d-b88b-7cd16590fbdc",
        "trusted": true,
        "id": "6eR0szg7Qh1T",
        "colab_type": "code",
        "colab": {
          "base_uri": "https://localhost:8080/",
          "height": 986
        },
        "outputId": "dd2f3173-70bf-40af-a05a-befbffefcc91"
      },
      "source": [
        "import matplotlib.pyplot as plt\n",
        "print(train_df.info())\n",
        "print('\\n')\n",
        "print(train_df.describe())\n",
        "print('\\n')\n",
        "print(train_df.columns)"
      ],
      "execution_count": 3,
      "outputs": [
        {
          "output_type": "stream",
          "text": [
            "<class 'pandas.core.frame.DataFrame'>\n",
            "RangeIndex: 103904 entries, 0 to 103903\n",
            "Data columns (total 25 columns):\n",
            " #   Column                             Non-Null Count   Dtype  \n",
            "---  ------                             --------------   -----  \n",
            " 0   Unnamed: 0                         103904 non-null  int64  \n",
            " 1   id                                 103904 non-null  int64  \n",
            " 2   Gender                             103904 non-null  object \n",
            " 3   Customer Type                      103904 non-null  object \n",
            " 4   Age                                103904 non-null  int64  \n",
            " 5   Type of Travel                     103904 non-null  object \n",
            " 6   Class                              103904 non-null  object \n",
            " 7   Flight Distance                    103904 non-null  int64  \n",
            " 8   Inflight wifi service              103904 non-null  int64  \n",
            " 9   Departure/Arrival time convenient  103904 non-null  int64  \n",
            " 10  Ease of Online booking             103904 non-null  int64  \n",
            " 11  Gate location                      103904 non-null  int64  \n",
            " 12  Food and drink                     103904 non-null  int64  \n",
            " 13  Online boarding                    103904 non-null  int64  \n",
            " 14  Seat comfort                       103904 non-null  int64  \n",
            " 15  Inflight entertainment             103904 non-null  int64  \n",
            " 16  On-board service                   103904 non-null  int64  \n",
            " 17  Leg room service                   103904 non-null  int64  \n",
            " 18  Baggage handling                   103904 non-null  int64  \n",
            " 19  Checkin service                    103904 non-null  int64  \n",
            " 20  Inflight service                   103904 non-null  int64  \n",
            " 21  Cleanliness                        103904 non-null  int64  \n",
            " 22  Departure Delay in Minutes         103904 non-null  int64  \n",
            " 23  Arrival Delay in Minutes           103594 non-null  float64\n",
            " 24  satisfaction                       103904 non-null  object \n",
            "dtypes: float64(1), int64(19), object(5)\n",
            "memory usage: 19.8+ MB\n",
            "None\n",
            "\n",
            "\n",
            "          Unnamed: 0  ...  Arrival Delay in Minutes\n",
            "count  103904.000000  ...             103594.000000\n",
            "mean    51951.500000  ...                 15.178678\n",
            "std     29994.645522  ...                 38.698682\n",
            "min         0.000000  ...                  0.000000\n",
            "25%     25975.750000  ...                  0.000000\n",
            "50%     51951.500000  ...                  0.000000\n",
            "75%     77927.250000  ...                 13.000000\n",
            "max    103903.000000  ...               1584.000000\n",
            "\n",
            "[8 rows x 20 columns]\n",
            "\n",
            "\n",
            "Index(['Unnamed: 0', 'id', 'Gender', 'Customer Type', 'Age', 'Type of Travel',\n",
            "       'Class', 'Flight Distance', 'Inflight wifi service',\n",
            "       'Departure/Arrival time convenient', 'Ease of Online booking',\n",
            "       'Gate location', 'Food and drink', 'Online boarding', 'Seat comfort',\n",
            "       'Inflight entertainment', 'On-board service', 'Leg room service',\n",
            "       'Baggage handling', 'Checkin service', 'Inflight service',\n",
            "       'Cleanliness', 'Departure Delay in Minutes', 'Arrival Delay in Minutes',\n",
            "       'satisfaction'],\n",
            "      dtype='object')\n"
          ],
          "name": "stdout"
        }
      ]
    },
    {
      "cell_type": "code",
      "metadata": {
        "_uuid": "35dd45fc-b1bd-4608-970d-fcb8b529ca65",
        "_cell_guid": "d26555ee-661f-4126-b97f-c0c4a1dfb018",
        "trusted": true,
        "id": "BuX49jQYQh1W",
        "colab_type": "code",
        "colab": {
          "base_uri": "https://localhost:8080/",
          "height": 986
        },
        "outputId": "cc6975ef-592d-4c2d-bdb8-6158ef95e050"
      },
      "source": [
        "print(test_df.info())\n",
        "print('\\n')\n",
        "print(test_df.describe())\n",
        "print('\\n')\n",
        "print(test_df.columns)"
      ],
      "execution_count": 4,
      "outputs": [
        {
          "output_type": "stream",
          "text": [
            "<class 'pandas.core.frame.DataFrame'>\n",
            "RangeIndex: 25976 entries, 0 to 25975\n",
            "Data columns (total 25 columns):\n",
            " #   Column                             Non-Null Count  Dtype  \n",
            "---  ------                             --------------  -----  \n",
            " 0   Unnamed: 0                         25976 non-null  int64  \n",
            " 1   id                                 25976 non-null  int64  \n",
            " 2   Gender                             25976 non-null  object \n",
            " 3   Customer Type                      25976 non-null  object \n",
            " 4   Age                                25976 non-null  int64  \n",
            " 5   Type of Travel                     25976 non-null  object \n",
            " 6   Class                              25976 non-null  object \n",
            " 7   Flight Distance                    25976 non-null  int64  \n",
            " 8   Inflight wifi service              25976 non-null  int64  \n",
            " 9   Departure/Arrival time convenient  25976 non-null  int64  \n",
            " 10  Ease of Online booking             25976 non-null  int64  \n",
            " 11  Gate location                      25976 non-null  int64  \n",
            " 12  Food and drink                     25976 non-null  int64  \n",
            " 13  Online boarding                    25976 non-null  int64  \n",
            " 14  Seat comfort                       25976 non-null  int64  \n",
            " 15  Inflight entertainment             25976 non-null  int64  \n",
            " 16  On-board service                   25976 non-null  int64  \n",
            " 17  Leg room service                   25976 non-null  int64  \n",
            " 18  Baggage handling                   25976 non-null  int64  \n",
            " 19  Checkin service                    25976 non-null  int64  \n",
            " 20  Inflight service                   25976 non-null  int64  \n",
            " 21  Cleanliness                        25976 non-null  int64  \n",
            " 22  Departure Delay in Minutes         25976 non-null  int64  \n",
            " 23  Arrival Delay in Minutes           25893 non-null  float64\n",
            " 24  satisfaction                       25976 non-null  object \n",
            "dtypes: float64(1), int64(19), object(5)\n",
            "memory usage: 5.0+ MB\n",
            "None\n",
            "\n",
            "\n",
            "         Unnamed: 0  ...  Arrival Delay in Minutes\n",
            "count  25976.000000  ...              25893.000000\n",
            "mean   12987.500000  ...                 14.740857\n",
            "std     7498.769632  ...                 37.517539\n",
            "min        0.000000  ...                  0.000000\n",
            "25%     6493.750000  ...                  0.000000\n",
            "50%    12987.500000  ...                  0.000000\n",
            "75%    19481.250000  ...                 13.000000\n",
            "max    25975.000000  ...               1115.000000\n",
            "\n",
            "[8 rows x 20 columns]\n",
            "\n",
            "\n",
            "Index(['Unnamed: 0', 'id', 'Gender', 'Customer Type', 'Age', 'Type of Travel',\n",
            "       'Class', 'Flight Distance', 'Inflight wifi service',\n",
            "       'Departure/Arrival time convenient', 'Ease of Online booking',\n",
            "       'Gate location', 'Food and drink', 'Online boarding', 'Seat comfort',\n",
            "       'Inflight entertainment', 'On-board service', 'Leg room service',\n",
            "       'Baggage handling', 'Checkin service', 'Inflight service',\n",
            "       'Cleanliness', 'Departure Delay in Minutes', 'Arrival Delay in Minutes',\n",
            "       'satisfaction'],\n",
            "      dtype='object')\n"
          ],
          "name": "stdout"
        }
      ]
    },
    {
      "cell_type": "code",
      "metadata": {
        "_uuid": "31b2f9d4-cecb-45fa-b6cc-27646b7ef555",
        "_cell_guid": "a69a0af9-1a6e-4dd4-91d5-0a47c5e90896",
        "trusted": true,
        "id": "AHULJ1f0Qh1a",
        "colab_type": "code",
        "colab": {
          "base_uri": "https://localhost:8080/",
          "height": 901
        },
        "outputId": "177c4f77-d3e5-4f0d-9c04-551fa9ed8474"
      },
      "source": [
        "print(train_df.isnull().sum())\n",
        "print(test_df.isnull().sum())"
      ],
      "execution_count": 5,
      "outputs": [
        {
          "output_type": "stream",
          "text": [
            "Unnamed: 0                             0\n",
            "id                                     0\n",
            "Gender                                 0\n",
            "Customer Type                          0\n",
            "Age                                    0\n",
            "Type of Travel                         0\n",
            "Class                                  0\n",
            "Flight Distance                        0\n",
            "Inflight wifi service                  0\n",
            "Departure/Arrival time convenient      0\n",
            "Ease of Online booking                 0\n",
            "Gate location                          0\n",
            "Food and drink                         0\n",
            "Online boarding                        0\n",
            "Seat comfort                           0\n",
            "Inflight entertainment                 0\n",
            "On-board service                       0\n",
            "Leg room service                       0\n",
            "Baggage handling                       0\n",
            "Checkin service                        0\n",
            "Inflight service                       0\n",
            "Cleanliness                            0\n",
            "Departure Delay in Minutes             0\n",
            "Arrival Delay in Minutes             310\n",
            "satisfaction                           0\n",
            "dtype: int64\n",
            "Unnamed: 0                            0\n",
            "id                                    0\n",
            "Gender                                0\n",
            "Customer Type                         0\n",
            "Age                                   0\n",
            "Type of Travel                        0\n",
            "Class                                 0\n",
            "Flight Distance                       0\n",
            "Inflight wifi service                 0\n",
            "Departure/Arrival time convenient     0\n",
            "Ease of Online booking                0\n",
            "Gate location                         0\n",
            "Food and drink                        0\n",
            "Online boarding                       0\n",
            "Seat comfort                          0\n",
            "Inflight entertainment                0\n",
            "On-board service                      0\n",
            "Leg room service                      0\n",
            "Baggage handling                      0\n",
            "Checkin service                       0\n",
            "Inflight service                      0\n",
            "Cleanliness                           0\n",
            "Departure Delay in Minutes            0\n",
            "Arrival Delay in Minutes             83\n",
            "satisfaction                          0\n",
            "dtype: int64\n"
          ],
          "name": "stdout"
        }
      ]
    },
    {
      "cell_type": "code",
      "metadata": {
        "_uuid": "a4b354a1-cff5-46a2-a72a-80494baf3a67",
        "_cell_guid": "48c6a59d-b257-4d4c-a2f4-c80b40b169c9",
        "trusted": true,
        "id": "d86y30tmQh1d",
        "colab_type": "code",
        "colab": {}
      },
      "source": [
        "train_df.rename({'Unnamed: 0':'a'},inplace=True,  axis=\"columns\",)\n",
        "train_df.drop('a',axis=1,inplace=True)"
      ],
      "execution_count": 6,
      "outputs": []
    },
    {
      "cell_type": "markdown",
      "metadata": {
        "_uuid": "8a446a87-0dfd-4874-b1b2-8a8e4cceefae",
        "_cell_guid": "25293c36-b009-4eac-95bd-a2a18ce4eaac",
        "trusted": true,
        "id": "TkiLbHocQh1h",
        "colab_type": "text"
      },
      "source": [
        "# filling the missing values in Arrival Delay in Minutes"
      ]
    },
    {
      "cell_type": "code",
      "metadata": {
        "_uuid": "f1f9dfd4-bf9f-48c9-befe-cf90937b5efe",
        "_cell_guid": "db92adfe-c7e0-48db-bc26-dfc8fc1dd494",
        "trusted": true,
        "id": "xGLdvo8eQh1j",
        "colab_type": "code",
        "colab": {}
      },
      "source": [
        "train_df.fillna(train_df['Arrival Delay in Minutes'].median(),inplace=True)\n",
        "test_df.fillna(test_df['Arrival Delay in Minutes'].median(),inplace=True)"
      ],
      "execution_count": 7,
      "outputs": []
    },
    {
      "cell_type": "markdown",
      "metadata": {
        "_uuid": "bf1825b5-bcea-4ce3-a014-12a30c83efa3",
        "_cell_guid": "6494b69b-f17a-4127-8e27-d643397e45be",
        "trusted": true,
        "id": "tTj2pBHWQh1n",
        "colab_type": "text"
      },
      "source": [
        "# starting to know the relations between the features"
      ]
    },
    {
      "cell_type": "code",
      "metadata": {
        "_uuid": "0d2ddc89-d056-4da5-8acb-6067b03e82a6",
        "_cell_guid": "aff2097b-cc17-4b92-ad52-b431cddbb27d",
        "trusted": true,
        "id": "HiwG2zJWQh1n",
        "colab_type": "code",
        "colab": {}
      },
      "source": [
        "\n",
        "\n",
        "train_df['satisfaction']=train_df['satisfaction'].map({'neutral or dissatisfied':0,'satisfied':1})\n",
        "\n",
        "\n",
        "test_df['satisfaction']=test_df['satisfaction'].map({'neutral or dissatisfied':0,'satisfied':1})"
      ],
      "execution_count": 8,
      "outputs": []
    },
    {
      "cell_type": "code",
      "metadata": {
        "_uuid": "cad2981f-f387-4acb-83a7-b0050e3605cb",
        "_cell_guid": "353a4bf2-97eb-4c16-90fc-605e7e117a8c",
        "trusted": true,
        "id": "TdBdGXNLQh1r",
        "colab_type": "code",
        "colab": {
          "base_uri": "https://localhost:8080/",
          "height": 221
        },
        "outputId": "03931ad7-47b3-4d4c-c068-c8ac8dbf77ad"
      },
      "source": [
        "train_df['satisfaction']"
      ],
      "execution_count": 9,
      "outputs": [
        {
          "output_type": "execute_result",
          "data": {
            "text/plain": [
              "0         0\n",
              "1         0\n",
              "2         1\n",
              "3         0\n",
              "4         1\n",
              "         ..\n",
              "103899    0\n",
              "103900    1\n",
              "103901    0\n",
              "103902    0\n",
              "103903    0\n",
              "Name: satisfaction, Length: 103904, dtype: int64"
            ]
          },
          "metadata": {
            "tags": []
          },
          "execution_count": 9
        }
      ]
    },
    {
      "cell_type": "code",
      "metadata": {
        "_uuid": "a421c0f1-558d-4d90-b55e-ce6bbf166515",
        "_cell_guid": "a85f0c34-525e-4448-9f7b-83bd72ee9199",
        "trusted": true,
        "id": "Iz4cOLx0Qh1t",
        "colab_type": "code",
        "colab": {
          "base_uri": "https://localhost:8080/",
          "height": 111
        },
        "outputId": "2faed6d4-896a-4087-8f51-537cdbbe7076"
      },
      "source": [
        "train_df[['satisfaction','Gender']].groupby(['Gender']).mean().sort_values(['satisfaction'],ignore_index=True)"
      ],
      "execution_count": 10,
      "outputs": [
        {
          "output_type": "execute_result",
          "data": {
            "text/html": [
              "<div>\n",
              "<style scoped>\n",
              "    .dataframe tbody tr th:only-of-type {\n",
              "        vertical-align: middle;\n",
              "    }\n",
              "\n",
              "    .dataframe tbody tr th {\n",
              "        vertical-align: top;\n",
              "    }\n",
              "\n",
              "    .dataframe thead th {\n",
              "        text-align: right;\n",
              "    }\n",
              "</style>\n",
              "<table border=\"1\" class=\"dataframe\">\n",
              "  <thead>\n",
              "    <tr style=\"text-align: right;\">\n",
              "      <th></th>\n",
              "      <th>satisfaction</th>\n",
              "    </tr>\n",
              "  </thead>\n",
              "  <tbody>\n",
              "    <tr>\n",
              "      <th>0</th>\n",
              "      <td>0.427371</td>\n",
              "    </tr>\n",
              "    <tr>\n",
              "      <th>1</th>\n",
              "      <td>0.439475</td>\n",
              "    </tr>\n",
              "  </tbody>\n",
              "</table>\n",
              "</div>"
            ],
            "text/plain": [
              "   satisfaction\n",
              "0      0.427371\n",
              "1      0.439475"
            ]
          },
          "metadata": {
            "tags": []
          },
          "execution_count": 10
        }
      ]
    },
    {
      "cell_type": "markdown",
      "metadata": {
        "_uuid": "ec0415fa-eca6-409f-8a13-21ddd3e81f55",
        "_cell_guid": "97313aa7-eab2-4e31-a474-20090e8078a0",
        "trusted": true,
        "id": "n77PjARZQh1w",
        "colab_type": "text"
      },
      "source": [
        "# no big effect from the gender"
      ]
    },
    {
      "cell_type": "code",
      "metadata": {
        "_uuid": "ec9353ad-a9b4-40d8-aec0-dcff66d18ff6",
        "_cell_guid": "fe93f6a5-5503-48cf-a932-c53b4b104d15",
        "trusted": true,
        "id": "NfQjRkALQh1w",
        "colab_type": "code",
        "colab": {
          "base_uri": "https://localhost:8080/",
          "height": 265
        },
        "outputId": "acff9a56-667a-4adc-c514-9caa87d8db46"
      },
      "source": [
        "train_df[['satisfaction','Age']].groupby(['Age']).mean().sort_values(['satisfaction'],ignore_index=True)\n",
        "plt.figure((1))\n",
        "plt.plot(train_df[['satisfaction','Age']].groupby(['Age']).mean(),label=['satisfaction','Gender'])\n",
        "plt.show()"
      ],
      "execution_count": 11,
      "outputs": [
        {
          "output_type": "display_data",
          "data": {
            "image/png": "[encoded data removed]",
            "text/plain": [
              "<Figure size 432x288 with 1 Axes>"
            ]
          },
          "metadata": {
            "tags": [],
            "needs_background": "light"
          }
        }
      ]
    },
    {
      "cell_type": "markdown",
      "metadata": {
        "_uuid": "aa65d5bf-f4fc-43a9-9f22-f03df6e31e55",
        "_cell_guid": "38ee1a18-7eba-4689-95ac-55d472e64320",
        "trusted": true,
        "id": "8_hrUQ7aQh1z",
        "colab_type": "text"
      },
      "source": [
        "# Age affects it a lot"
      ]
    },
    {
      "cell_type": "code",
      "metadata": {
        "_uuid": "12bf21d8-a350-4c35-9885-4183b07e0e8d",
        "_cell_guid": "9adc6c37-a9b0-423f-9205-6916b98fa11b",
        "trusted": true,
        "id": "JZ2Zt8t3Qh1z",
        "colab_type": "code",
        "colab": {
          "base_uri": "https://localhost:8080/",
          "height": 111
        },
        "outputId": "c165d997-e532-463b-94ce-4f2c396b3e58"
      },
      "source": [
        "\n",
        "train_df[['satisfaction','Customer Type']].groupby(['Customer Type']).mean().sort_values(['satisfaction'],ignore_index=True)"
      ],
      "execution_count": 12,
      "outputs": [
        {
          "output_type": "execute_result",
          "data": {
            "text/html": [
              "<div>\n",
              "<style scoped>\n",
              "    .dataframe tbody tr th:only-of-type {\n",
              "        vertical-align: middle;\n",
              "    }\n",
              "\n",
              "    .dataframe tbody tr th {\n",
              "        vertical-align: top;\n",
              "    }\n",
              "\n",
              "    .dataframe thead th {\n",
              "        text-align: right;\n",
              "    }\n",
              "</style>\n",
              "<table border=\"1\" class=\"dataframe\">\n",
              "  <thead>\n",
              "    <tr style=\"text-align: right;\">\n",
              "      <th></th>\n",
              "      <th>satisfaction</th>\n",
              "    </tr>\n",
              "  </thead>\n",
              "  <tbody>\n",
              "    <tr>\n",
              "      <th>0</th>\n",
              "      <td>0.236658</td>\n",
              "    </tr>\n",
              "    <tr>\n",
              "      <th>1</th>\n",
              "      <td>0.477291</td>\n",
              "    </tr>\n",
              "  </tbody>\n",
              "</table>\n",
              "</div>"
            ],
            "text/plain": [
              "   satisfaction\n",
              "0      0.236658\n",
              "1      0.477291"
            ]
          },
          "metadata": {
            "tags": []
          },
          "execution_count": 12
        }
      ]
    },
    {
      "cell_type": "code",
      "metadata": {
        "_uuid": "569278ae-e521-4d2d-9b6a-2dda0b518af0",
        "_cell_guid": "48ae7222-0336-49a4-9fc0-f651ae5abaf2",
        "trusted": true,
        "id": "aSg9kVeSQh12",
        "colab_type": "code",
        "colab": {
          "base_uri": "https://localhost:8080/",
          "height": 170
        },
        "outputId": "71e470a9-3102-4f1f-edb3-94bf9cd6b165"
      },
      "source": [
        "train_df.columns"
      ],
      "execution_count": 13,
      "outputs": [
        {
          "output_type": "execute_result",
          "data": {
            "text/plain": [
              "Index(['id', 'Gender', 'Customer Type', 'Age', 'Type of Travel', 'Class',\n",
              "       'Flight Distance', 'Inflight wifi service',\n",
              "       'Departure/Arrival time convenient', 'Ease of Online booking',\n",
              "       'Gate location', 'Food and drink', 'Online boarding', 'Seat comfort',\n",
              "       'Inflight entertainment', 'On-board service', 'Leg room service',\n",
              "       'Baggage handling', 'Checkin service', 'Inflight service',\n",
              "       'Cleanliness', 'Departure Delay in Minutes', 'Arrival Delay in Minutes',\n",
              "       'satisfaction'],\n",
              "      dtype='object')"
            ]
          },
          "metadata": {
            "tags": []
          },
          "execution_count": 13
        }
      ]
    },
    {
      "cell_type": "code",
      "metadata": {
        "_uuid": "234201b3-b231-4bc0-976c-9b39877858d4",
        "_cell_guid": "3b87f77e-9259-4179-9b1e-1462cf96fc4d",
        "trusted": true,
        "id": "ckxU55osQh14",
        "colab_type": "code",
        "colab": {
          "base_uri": "https://localhost:8080/",
          "height": 111
        },
        "outputId": "39693eda-02d3-4798-f9d2-095746dd2007"
      },
      "source": [
        "\n",
        "train_df[['satisfaction','Type of Travel']].groupby(['Type of Travel']).mean().sort_values(['satisfaction'],ignore_index=True)"
      ],
      "execution_count": 14,
      "outputs": [
        {
          "output_type": "execute_result",
          "data": {
            "text/html": [
              "<div>\n",
              "<style scoped>\n",
              "    .dataframe tbody tr th:only-of-type {\n",
              "        vertical-align: middle;\n",
              "    }\n",
              "\n",
              "    .dataframe tbody tr th {\n",
              "        vertical-align: top;\n",
              "    }\n",
              "\n",
              "    .dataframe thead th {\n",
              "        text-align: right;\n",
              "    }\n",
              "</style>\n",
              "<table border=\"1\" class=\"dataframe\">\n",
              "  <thead>\n",
              "    <tr style=\"text-align: right;\">\n",
              "      <th></th>\n",
              "      <th>satisfaction</th>\n",
              "    </tr>\n",
              "  </thead>\n",
              "  <tbody>\n",
              "    <tr>\n",
              "      <th>0</th>\n",
              "      <td>0.101678</td>\n",
              "    </tr>\n",
              "    <tr>\n",
              "      <th>1</th>\n",
              "      <td>0.582597</td>\n",
              "    </tr>\n",
              "  </tbody>\n",
              "</table>\n",
              "</div>"
            ],
            "text/plain": [
              "   satisfaction\n",
              "0      0.101678\n",
              "1      0.582597"
            ]
          },
          "metadata": {
            "tags": []
          },
          "execution_count": 14
        }
      ]
    },
    {
      "cell_type": "markdown",
      "metadata": {
        "_uuid": "c6aba15b-7315-437a-bfbd-e2079f71fc95",
        "_cell_guid": "427c3c35-a50f-464c-93e7-71f99b34d287",
        "trusted": true,
        "id": "TLewQHB1Qh17",
        "colab_type": "text"
      },
      "source": [
        "Wow this affects the satisfaction a loooooot"
      ]
    },
    {
      "cell_type": "code",
      "metadata": {
        "_uuid": "358f0e6a-a86b-4b85-8629-5e012a40c5c9",
        "_cell_guid": "c4dcf5ee-452b-4f73-9921-736dd529660e",
        "trusted": true,
        "id": "bw_FTy5yQh18",
        "colab_type": "code",
        "colab": {
          "base_uri": "https://localhost:8080/",
          "height": 142
        },
        "outputId": "feef1a34-75ae-4fb0-9664-bdbbc89dd1fe"
      },
      "source": [
        "\n",
        "train_df[['satisfaction','Class']].groupby(['Class']).mean().sort_values(['satisfaction'],ignore_index=True)"
      ],
      "execution_count": 15,
      "outputs": [
        {
          "output_type": "execute_result",
          "data": {
            "text/html": [
              "<div>\n",
              "<style scoped>\n",
              "    .dataframe tbody tr th:only-of-type {\n",
              "        vertical-align: middle;\n",
              "    }\n",
              "\n",
              "    .dataframe tbody tr th {\n",
              "        vertical-align: top;\n",
              "    }\n",
              "\n",
              "    .dataframe thead th {\n",
              "        text-align: right;\n",
              "    }\n",
              "</style>\n",
              "<table border=\"1\" class=\"dataframe\">\n",
              "  <thead>\n",
              "    <tr style=\"text-align: right;\">\n",
              "      <th></th>\n",
              "      <th>satisfaction</th>\n",
              "    </tr>\n",
              "  </thead>\n",
              "  <tbody>\n",
              "    <tr>\n",
              "      <th>0</th>\n",
              "      <td>0.186138</td>\n",
              "    </tr>\n",
              "    <tr>\n",
              "      <th>1</th>\n",
              "      <td>0.246064</td>\n",
              "    </tr>\n",
              "    <tr>\n",
              "      <th>2</th>\n",
              "      <td>0.694251</td>\n",
              "    </tr>\n",
              "  </tbody>\n",
              "</table>\n",
              "</div>"
            ],
            "text/plain": [
              "   satisfaction\n",
              "0      0.186138\n",
              "1      0.246064\n",
              "2      0.694251"
            ]
          },
          "metadata": {
            "tags": []
          },
          "execution_count": 15
        }
      ]
    },
    {
      "cell_type": "markdown",
      "metadata": {
        "_uuid": "2bccb029-6c49-4b8e-9a57-1c68a36b4c33",
        "_cell_guid": "e50012f2-7888-40e4-8d6c-786a3ea8a2b8",
        "trusted": true,
        "id": "1VLLNO4sQh1_",
        "colab_type": "text"
      },
      "source": [
        "Wow this affects the satisfaction a loooooot again"
      ]
    },
    {
      "cell_type": "code",
      "metadata": {
        "_uuid": "9196021d-2dfb-4fed-98c5-f6544ceb8288",
        "_cell_guid": "5034aab9-cf49-4dbb-87dd-7147beab4d46",
        "trusted": true,
        "id": "2dDVmdxhQh1_",
        "colab_type": "code",
        "colab": {
          "base_uri": "https://localhost:8080/",
          "height": 34
        },
        "outputId": "56269873-de7b-4692-8ea7-921f53dcedf6"
      },
      "source": [
        "train_df['Inflight wifi service'].unique()"
      ],
      "execution_count": 16,
      "outputs": [
        {
          "output_type": "execute_result",
          "data": {
            "text/plain": [
              "array([3, 2, 4, 1, 5, 0])"
            ]
          },
          "metadata": {
            "tags": []
          },
          "execution_count": 16
        }
      ]
    },
    {
      "cell_type": "code",
      "metadata": {
        "_uuid": "a7d2085a-b3e8-40ab-a34b-ba9892c32d92",
        "_cell_guid": "c071fd3d-a7a5-4a64-8b95-ef0328aa38ca",
        "trusted": true,
        "id": "3Z_ZEU9BQh2C",
        "colab_type": "code",
        "colab": {
          "base_uri": "https://localhost:8080/",
          "height": 187
        },
        "outputId": "fb9978f1-834b-498f-c85c-2bf1cf264026"
      },
      "source": [
        "print(train_df[['satisfaction','Flight Distance']].groupby(['satisfaction']).mean().sort_values(['satisfaction'],ignore_index=True))\n",
        "print(\n",
        "train_df[['satisfaction','Inflight wifi service']].groupby(['Inflight wifi service']).mean().sort_values(['satisfaction'],ignore_index=True)\n",
        ")"
      ],
      "execution_count": 17,
      "outputs": [
        {
          "output_type": "stream",
          "text": [
            "   Flight Distance\n",
            "0       928.919971\n",
            "1      1530.140255\n",
            "   satisfaction\n",
            "0      0.248664\n",
            "1      0.250580\n",
            "2      0.325448\n",
            "3      0.598969\n",
            "4      0.990758\n",
            "5      0.997422\n"
          ],
          "name": "stdout"
        }
      ]
    },
    {
      "cell_type": "code",
      "metadata": {
        "_uuid": "9f045338-f242-480a-9581-35abccfe287d",
        "_cell_guid": "388f74a4-85e2-4a9a-ac3e-8ded09689331",
        "trusted": true,
        "id": "rPygYydlQh2E",
        "colab_type": "code",
        "colab": {
          "base_uri": "https://localhost:8080/",
          "height": 265
        },
        "outputId": "8cc784f3-d58f-4037-da5b-ec995834fe4e"
      },
      "source": [
        "plt.figure(2)\n",
        "plt.plot((train_df[['satisfaction','Flight Distance']].groupby(['Flight Distance']).mean().sort_values(['satisfaction'],ignore_index=True)))\n",
        "plt.show()"
      ],
      "execution_count": 18,
      "outputs": [
        {
          "output_type": "display_data",
          "data": {
            "image/png": "[encoded data removed]",
            "text/plain": [
              "<Figure size 432x288 with 1 Axes>"
            ]
          },
          "metadata": {
            "tags": [],
            "needs_background": "light"
          }
        }
      ]
    },
    {
      "cell_type": "markdown",
      "metadata": {
        "_uuid": "82d90e40-c78d-4b82-966e-cb740f2cd90a",
        "_cell_guid": "b831a9ca-1c9b-4d50-821f-59dd8858d08c",
        "trusted": true,
        "id": "0x1NDSGbQh2H",
        "colab_type": "text"
      },
      "source": [
        "Both of them afects the results"
      ]
    },
    {
      "cell_type": "code",
      "metadata": {
        "_uuid": "24a0a78d-b9b7-421b-9866-366018cb673a",
        "_cell_guid": "ad097198-528b-4590-b9eb-8b56ee1f6bce",
        "trusted": true,
        "id": "WjEKMSo-Qh2H",
        "colab_type": "code",
        "colab": {
          "base_uri": "https://localhost:8080/",
          "height": 170
        },
        "outputId": "feb528d5-c7f8-4f1d-c9db-99306f333c83"
      },
      "source": [
        "train_df.columns"
      ],
      "execution_count": 19,
      "outputs": [
        {
          "output_type": "execute_result",
          "data": {
            "text/plain": [
              "Index(['id', 'Gender', 'Customer Type', 'Age', 'Type of Travel', 'Class',\n",
              "       'Flight Distance', 'Inflight wifi service',\n",
              "       'Departure/Arrival time convenient', 'Ease of Online booking',\n",
              "       'Gate location', 'Food and drink', 'Online boarding', 'Seat comfort',\n",
              "       'Inflight entertainment', 'On-board service', 'Leg room service',\n",
              "       'Baggage handling', 'Checkin service', 'Inflight service',\n",
              "       'Cleanliness', 'Departure Delay in Minutes', 'Arrival Delay in Minutes',\n",
              "       'satisfaction'],\n",
              "      dtype='object')"
            ]
          },
          "metadata": {
            "tags": []
          },
          "execution_count": 19
        }
      ]
    },
    {
      "cell_type": "code",
      "metadata": {
        "_uuid": "467e2eec-1f0b-42a3-92c3-26c660dfe3cc",
        "_cell_guid": "a3c29296-0ec0-4f83-9010-a2cdfc292a28",
        "trusted": true,
        "id": "Dv5qP9lFQh2K",
        "colab_type": "code",
        "colab": {
          "base_uri": "https://localhost:8080/",
          "height": 255
        },
        "outputId": "2e341cab-c534-4c40-9ab3-aea1b0a46efe"
      },
      "source": [
        "print(train_df[['satisfaction','Departure/Arrival time convenient']].groupby(['Departure/Arrival time convenient']).mean().sort_values(['satisfaction'],ignore_index=True))\n",
        "print(\n",
        "train_df[['satisfaction','Ease of Online booking']].groupby(['Ease of Online booking']).mean().sort_values(['satisfaction'],ignore_index=True)\n",
        ")"
      ],
      "execution_count": 20,
      "outputs": [
        {
          "output_type": "stream",
          "text": [
            "   satisfaction\n",
            "0      0.387771\n",
            "1      0.425300\n",
            "2      0.438217\n",
            "3      0.445407\n",
            "4      0.475472\n",
            "5      0.486579\n",
            "   satisfaction\n",
            "0      0.303942\n",
            "1      0.308274\n",
            "2      0.376034\n",
            "3      0.530939\n",
            "4      0.664141\n",
            "5      0.738286\n"
          ],
          "name": "stdout"
        }
      ]
    },
    {
      "cell_type": "markdown",
      "metadata": {
        "_uuid": "d1d807ce-227a-42e0-b488-1870c0570183",
        "_cell_guid": "e58713ed-38b6-4b2f-91fe-1e24ad502f83",
        "trusted": true,
        "id": "gH8w8rPtQh2O",
        "colab_type": "text"
      },
      "source": [
        "'Departure/Arrival time convenient' isn't so relevent"
      ]
    },
    {
      "cell_type": "code",
      "metadata": {
        "_uuid": "72670ed1-2dc4-450d-b45d-f57041f503ea",
        "_cell_guid": "13792b0a-554f-43ad-a254-3e775c518fbc",
        "trusted": true,
        "id": "fY4qHk9pQh2O",
        "colab_type": "code",
        "colab": {
          "base_uri": "https://localhost:8080/",
          "height": 255
        },
        "outputId": "439490ee-8ee8-4010-ff80-ba5c1a0c40da"
      },
      "source": [
        "print(train_df[['satisfaction','Gate location']].groupby(['Gate location']).mean().sort_values(['satisfaction'],ignore_index=True))\n",
        "print(\n",
        "train_df[['satisfaction','Food and drink']].groupby(['Food and drink']).mean().sort_values(['satisfaction'],ignore_index=True)\n",
        ")"
      ],
      "execution_count": 21,
      "outputs": [
        {
          "output_type": "stream",
          "text": [
            "   satisfaction\n",
            "0      0.347202\n",
            "1      0.388520\n",
            "2      0.460712\n",
            "3      0.495559\n",
            "4      0.572376\n",
            "5      1.000000\n",
            "   satisfaction\n",
            "0      0.200047\n",
            "1      0.387939\n",
            "2      0.396368\n",
            "3      0.467290\n",
            "4      0.524981\n",
            "5      0.549007\n"
          ],
          "name": "stdout"
        }
      ]
    },
    {
      "cell_type": "code",
      "metadata": {
        "_uuid": "066ccbad-98f3-404b-a939-6223de069972",
        "_cell_guid": "7a755a6d-5619-40a5-8e25-ac6de94be338",
        "trusted": true,
        "id": "R39OpO33Qh2R",
        "colab_type": "code",
        "colab": {
          "base_uri": "https://localhost:8080/",
          "height": 306
        },
        "outputId": "f6d241a4-47bc-404f-dc7b-689f4dec1fcf"
      },
      "source": [
        "print('Online boarding')\n",
        "print(train_df[['satisfaction','Online boarding']].groupby(['Online boarding']).mean().sort_values(['satisfaction'],ignore_index=True))\n",
        "print('\\n Seat comfort')\n",
        "print(\n",
        "train_df[['satisfaction','Seat comfort']].groupby(['Seat comfort']).mean().sort_values(['satisfaction'],ignore_index=True)\n",
        ")"
      ],
      "execution_count": 22,
      "outputs": [
        {
          "output_type": "stream",
          "text": [
            "Online boarding\n",
            "   satisfaction\n",
            "0      0.115338\n",
            "1      0.135709\n",
            "2      0.137767\n",
            "3      0.556425\n",
            "4      0.623041\n",
            "5      0.871771\n",
            "\n",
            " Seat comfort\n",
            "   satisfaction\n",
            "0      0.000000\n",
            "1      0.211543\n",
            "2      0.223188\n",
            "3      0.224139\n",
            "4      0.561152\n",
            "5      0.650208\n"
          ],
          "name": "stdout"
        }
      ]
    },
    {
      "cell_type": "code",
      "metadata": {
        "_uuid": "40c73f67-2376-43e6-9d30-a28e6de19f62",
        "_cell_guid": "15f2508c-faf2-4fc1-91b6-dbdae12e5b2a",
        "trusted": true,
        "id": "p9CWDsfrQh2U",
        "colab_type": "code",
        "colab": {
          "base_uri": "https://localhost:8080/",
          "height": 323
        },
        "outputId": "045f2f63-7464-4e11-e871-fa710e102f32"
      },
      "source": [
        "'Inflight entertainment', 'On-board service'\n",
        "print('Inflight entertainment')\n",
        "print(train_df[['satisfaction','Inflight entertainment']].groupby(['Inflight entertainment']).mean().sort_values(['satisfaction'],ignore_index=True))\n",
        "print('\\n ')\n",
        "print('On-board service')\n",
        "print(\n",
        "train_df[['satisfaction','On-board service']].groupby(['On-board service']).mean().sort_values(['satisfaction'],ignore_index=True)\n",
        ")"
      ],
      "execution_count": 23,
      "outputs": [
        {
          "output_type": "stream",
          "text": [
            "Inflight entertainment\n",
            "   satisfaction\n",
            "0      0.000000\n",
            "1      0.139846\n",
            "2      0.213302\n",
            "3      0.270077\n",
            "4      0.611766\n",
            "5      0.648435\n",
            "\n",
            " \n",
            "On-board service\n",
            "   satisfaction\n",
            "0      0.000000\n",
            "1      0.193733\n",
            "2      0.255705\n",
            "3      0.315683\n",
            "4      0.536852\n",
            "5      0.642422\n"
          ],
          "name": "stdout"
        }
      ]
    },
    {
      "cell_type": "code",
      "metadata": {
        "_uuid": "4301d3af-bfa0-45f8-a166-b147bdcb0286",
        "_cell_guid": "16636095-9c55-4977-9f70-f72fb2982f5f",
        "trusted": true,
        "id": "L-a7uH0sQh2X",
        "colab_type": "code",
        "colab": {
          "base_uri": "https://localhost:8080/",
          "height": 782
        },
        "outputId": "19ccc775-50bb-4a3f-9848-7fd937abbea7"
      },
      "source": [
        "\n",
        "       \n",
        "       \n",
        "       \n",
        "    \n",
        "print('Leg room service')\n",
        "print(train_df[['satisfaction','Leg room service']].groupby(['Leg room service']).mean().sort_values(['satisfaction'],ignore_index=True))\n",
        "print('\\n ')\n",
        "print('Baggage handling')\n",
        "print(\n",
        "train_df[['satisfaction','Baggage handling']].groupby(['Baggage handling']).mean().sort_values(['satisfaction'],ignore_index=True)\n",
        ")\n",
        "\n",
        "\n",
        "print( 'Checkin service')\n",
        "print(train_df[['satisfaction', 'Checkin service']].groupby([ 'Checkin service']).mean().sort_values(['satisfaction'],ignore_index=True))\n",
        "print('\\n ')\n",
        "print('Inflight service')\n",
        "print(\n",
        "train_df[['satisfaction','Inflight service']].groupby(['Inflight service']).mean().sort_values(['satisfaction'],ignore_index=True)\n",
        ")\n",
        "\n",
        "\n",
        "\n",
        "print('Departure Delay in Minutes')\n",
        "print(train_df[['satisfaction','Departure Delay in Minutes']].groupby(['satisfaction']).mean().sort_values(['satisfaction'],ignore_index=True))\n",
        "print('\\n ')\n",
        "print('Arrival Delay in Minutes')\n",
        "print(\n",
        "train_df[['satisfaction','Arrival Delay in Minutes']].groupby(['satisfaction']).mean().sort_values(['satisfaction'],ignore_index=True)\n",
        ")"
      ],
      "execution_count": 24,
      "outputs": [
        {
          "output_type": "stream",
          "text": [
            "Leg room service\n",
            "   satisfaction\n",
            "0      0.202840\n",
            "1      0.272415\n",
            "2      0.274673\n",
            "3      0.351695\n",
            "4      0.582306\n",
            "5      0.614465\n",
            "\n",
            " \n",
            "Baggage handling\n",
            "   satisfaction\n",
            "0      0.235847\n",
            "1      0.295460\n",
            "2      0.297637\n",
            "3      0.480914\n",
            "4      0.612694\n",
            "Checkin service\n",
            "   satisfaction\n",
            "0      0.000000\n",
            "1      0.239255\n",
            "2      0.252307\n",
            "3      0.448288\n",
            "4      0.459921\n",
            "5      0.609777\n",
            "\n",
            " \n",
            "Inflight service\n",
            "   satisfaction\n",
            "0      0.000000\n",
            "1      0.238977\n",
            "2      0.289949\n",
            "3      0.301213\n",
            "4      0.477770\n",
            "5      0.609972\n",
            "Departure Delay in Minutes\n",
            "   Departure Delay in Minutes\n",
            "0                   16.503728\n",
            "1                   12.608084\n",
            "\n",
            " \n",
            "Arrival Delay in Minutes\n",
            "   Arrival Delay in Minutes\n",
            "0                 17.074594\n",
            "1                 12.594892\n"
          ],
          "name": "stdout"
        }
      ]
    },
    {
      "cell_type": "code",
      "metadata": {
        "_uuid": "bc77c0fd-6ee0-4c95-a934-aee6d820d7be",
        "_cell_guid": "392ec9be-ee59-4ea0-8af4-2d5ec0fcf47f",
        "trusted": true,
        "id": "NZNlc4rRQh2e",
        "colab_type": "code",
        "colab": {
          "base_uri": "https://localhost:8080/",
          "height": 119
        },
        "outputId": "6c8a0fdc-69fc-4f97-c0fe-c32c48923d6f"
      },
      "source": [
        "print(train_df[['Arrival Delay in Minutes','satisfaction']].corr())\n",
        "print(train_df[['Departure Delay in Minutes','satisfaction']].corr())"
      ],
      "execution_count": 25,
      "outputs": [
        {
          "output_type": "stream",
          "text": [
            "                          Arrival Delay in Minutes  satisfaction\n",
            "Arrival Delay in Minutes                  1.000000     -0.057435\n",
            "satisfaction                             -0.057435      1.000000\n",
            "                            Departure Delay in Minutes  satisfaction\n",
            "Departure Delay in Minutes                    1.000000     -0.050494\n",
            "satisfaction                                 -0.050494      1.000000\n"
          ],
          "name": "stdout"
        }
      ]
    },
    {
      "cell_type": "code",
      "metadata": {
        "_uuid": "40668293-4e55-48e7-949b-ac94376c640a",
        "_cell_guid": "4dbb1264-9146-4a02-9106-487c5b762da3",
        "trusted": true,
        "id": "gkb_x-jXQh2h",
        "colab_type": "code",
        "colab": {
          "base_uri": "https://localhost:8080/",
          "height": 986
        },
        "outputId": "25d53644-92a8-4c95-99d0-52298304bea1"
      },
      "source": [
        "import seaborn as sns\n",
        "corr=train_df.corr()\n",
        "mask = np.zeros_like(corr)\n",
        "mask[np.triu_indices_from(mask)] = True\n",
        "\n",
        "with sns.axes_style(\"white\"):\n",
        "    f, ax = plt.subplots(figsize=(20, 20))\n",
        "    ax = sns.heatmap(corr, annot = True, mask=mask, cmap=sns.color_palette(\"BuGn_r\"), center=0,\n",
        "            square=True, linewidths=.5)\n",
        "    \n",
        "    \n",
        "#sns.heatmap(, cmap=\"YlGnBu\",mask)\n",
        "plt.show()"
      ],
      "execution_count": 26,
      "outputs": [
        {
          "output_type": "stream",
          "text": [
            "/usr/local/lib/python3.6/dist-packages/statsmodels/tools/_testing.py:19: FutureWarning: pandas.util.testing is deprecated. Use the functions in the public API at pandas.testing instead.\n",
            "  import pandas.util.testing as tm\n"
          ],
          "name": "stderr"
        },
        {
          "output_type": "display_data",
          "data": {
            "image/png": "[encoded data removed]",
            "text/plain": [
              "<Figure size 1440x1440 with 2 Axes>"
            ]
          },
          "metadata": {
            "tags": []
          }
        }
      ]
    },
    {
      "cell_type": "markdown",
      "metadata": {
        "_uuid": "a0e1ae75-21e7-45e7-a098-e57b67e6b05d",
        "_cell_guid": "3facd1dd-72b8-4ff4-b2e0-eae1953258ae",
        "trusted": true,
        "id": "88Y10Ac8Qh2m",
        "colab_type": "text"
      },
      "source": [
        "* Best features - Online Booking, Class, and Type of Travel\n",
        "* Worst features - Gate location, Gender, and Departure/Arrival Time Convenient"
      ]
    },
    {
      "cell_type": "markdown",
      "metadata": {
        "_uuid": "11c24fe0-0e6e-44a8-bc99-7a69011d7b21",
        "_cell_guid": "18aeba73-8ec6-4e52-af0c-c960058966e4",
        "trusted": true,
        "id": "v56Z1clhQh2m",
        "colab_type": "text"
      },
      "source": [
        "# Converting it to numbers"
      ]
    },
    {
      "cell_type": "code",
      "metadata": {
        "_uuid": "4eef3694-341c-4999-a6b6-8987db95f710",
        "_cell_guid": "714c9b74-c712-4b60-a31f-335c5b8195bc",
        "trusted": true,
        "id": "cRVXUkycQh2n",
        "colab_type": "code",
        "colab": {
          "base_uri": "https://localhost:8080/",
          "height": 419
        },
        "outputId": "c6a0ebd4-bdde-4427-cd58-eecc4dd6e9f1"
      },
      "source": [
        "train_df.select_dtypes(include='object')"
      ],
      "execution_count": 27,
      "outputs": [
        {
          "output_type": "execute_result",
          "data": {
            "text/html": [
              "<div>\n",
              "<style scoped>\n",
              "    .dataframe tbody tr th:only-of-type {\n",
              "        vertical-align: middle;\n",
              "    }\n",
              "\n",
              "    .dataframe tbody tr th {\n",
              "        vertical-align: top;\n",
              "    }\n",
              "\n",
              "    .dataframe thead th {\n",
              "        text-align: right;\n",
              "    }\n",
              "</style>\n",
              "<table border=\"1\" class=\"dataframe\">\n",
              "  <thead>\n",
              "    <tr style=\"text-align: right;\">\n",
              "      <th></th>\n",
              "      <th>Gender</th>\n",
              "      <th>Customer Type</th>\n",
              "      <th>Type of Travel</th>\n",
              "      <th>Class</th>\n",
              "    </tr>\n",
              "  </thead>\n",
              "  <tbody>\n",
              "    <tr>\n",
              "      <th>0</th>\n",
              "      <td>Male</td>\n",
              "      <td>Loyal Customer</td>\n",
              "      <td>Personal Travel</td>\n",
              "      <td>Eco Plus</td>\n",
              "    </tr>\n",
              "    <tr>\n",
              "      <th>1</th>\n",
              "      <td>Male</td>\n",
              "      <td>disloyal Customer</td>\n",
              "      <td>Business travel</td>\n",
              "      <td>Business</td>\n",
              "    </tr>\n",
              "    <tr>\n",
              "      <th>2</th>\n",
              "      <td>Female</td>\n",
              "      <td>Loyal Customer</td>\n",
              "      <td>Business travel</td>\n",
              "      <td>Business</td>\n",
              "    </tr>\n",
              "    <tr>\n",
              "      <th>3</th>\n",
              "      <td>Female</td>\n",
              "      <td>Loyal Customer</td>\n",
              "      <td>Business travel</td>\n",
              "      <td>Business</td>\n",
              "    </tr>\n",
              "    <tr>\n",
              "      <th>4</th>\n",
              "      <td>Male</td>\n",
              "      <td>Loyal Customer</td>\n",
              "      <td>Business travel</td>\n",
              "      <td>Business</td>\n",
              "    </tr>\n",
              "    <tr>\n",
              "      <th>...</th>\n",
              "      <td>...</td>\n",
              "      <td>...</td>\n",
              "      <td>...</td>\n",
              "      <td>...</td>\n",
              "    </tr>\n",
              "    <tr>\n",
              "      <th>103899</th>\n",
              "      <td>Female</td>\n",
              "      <td>disloyal Customer</td>\n",
              "      <td>Business travel</td>\n",
              "      <td>Eco</td>\n",
              "    </tr>\n",
              "    <tr>\n",
              "      <th>103900</th>\n",
              "      <td>Male</td>\n",
              "      <td>Loyal Customer</td>\n",
              "      <td>Business travel</td>\n",
              "      <td>Business</td>\n",
              "    </tr>\n",
              "    <tr>\n",
              "      <th>103901</th>\n",
              "      <td>Male</td>\n",
              "      <td>disloyal Customer</td>\n",
              "      <td>Business travel</td>\n",
              "      <td>Business</td>\n",
              "    </tr>\n",
              "    <tr>\n",
              "      <th>103902</th>\n",
              "      <td>Female</td>\n",
              "      <td>disloyal Customer</td>\n",
              "      <td>Business travel</td>\n",
              "      <td>Eco</td>\n",
              "    </tr>\n",
              "    <tr>\n",
              "      <th>103903</th>\n",
              "      <td>Male</td>\n",
              "      <td>Loyal Customer</td>\n",
              "      <td>Business travel</td>\n",
              "      <td>Business</td>\n",
              "    </tr>\n",
              "  </tbody>\n",
              "</table>\n",
              "<p>103904 rows × 4 columns</p>\n",
              "</div>"
            ],
            "text/plain": [
              "        Gender      Customer Type   Type of Travel     Class\n",
              "0         Male     Loyal Customer  Personal Travel  Eco Plus\n",
              "1         Male  disloyal Customer  Business travel  Business\n",
              "2       Female     Loyal Customer  Business travel  Business\n",
              "3       Female     Loyal Customer  Business travel  Business\n",
              "4         Male     Loyal Customer  Business travel  Business\n",
              "...        ...                ...              ...       ...\n",
              "103899  Female  disloyal Customer  Business travel       Eco\n",
              "103900    Male     Loyal Customer  Business travel  Business\n",
              "103901    Male  disloyal Customer  Business travel  Business\n",
              "103902  Female  disloyal Customer  Business travel       Eco\n",
              "103903    Male     Loyal Customer  Business travel  Business\n",
              "\n",
              "[103904 rows x 4 columns]"
            ]
          },
          "metadata": {
            "tags": []
          },
          "execution_count": 27
        }
      ]
    },
    {
      "cell_type": "code",
      "metadata": {
        "_uuid": "80870954-79e5-44f5-9881-dab7a2f393a0",
        "_cell_guid": "a133ec0a-36e3-409f-a4c2-95d3ddce1db9",
        "trusted": true,
        "id": "6--jlMuCQh2r",
        "colab_type": "code",
        "colab": {
          "base_uri": "https://localhost:8080/",
          "height": 425
        },
        "outputId": "1b0d2a4f-1c7f-4ed6-c0a2-72e1779a50d5"
      },
      "source": [
        "objectcols=['Gender','Customer Type','Type of Travel','Class']\n",
        "train_df.drop('id',axis=1,inplace=True)\n",
        "\n",
        "\n",
        "test_df.rename({'Unnamed: 0':'a'},inplace=True,  axis=\"columns\",)\n",
        "test_df.drop('a',axis=1,inplace=True)\n",
        "\n",
        "\n",
        "test_df.drop('id',axis=1,inplace=True)\n",
        "train_df=pd.get_dummies(train_df)\n",
        "train_df.head()\n",
        "\n",
        "\n",
        "\n",
        "print(test_df.isnull().sum())\n",
        "\n",
        "\n",
        "\n",
        "test_df=pd.get_dummies(test_df)"
      ],
      "execution_count": 28,
      "outputs": [
        {
          "output_type": "stream",
          "text": [
            "Gender                               0\n",
            "Customer Type                        0\n",
            "Age                                  0\n",
            "Type of Travel                       0\n",
            "Class                                0\n",
            "Flight Distance                      0\n",
            "Inflight wifi service                0\n",
            "Departure/Arrival time convenient    0\n",
            "Ease of Online booking               0\n",
            "Gate location                        0\n",
            "Food and drink                       0\n",
            "Online boarding                      0\n",
            "Seat comfort                         0\n",
            "Inflight entertainment               0\n",
            "On-board service                     0\n",
            "Leg room service                     0\n",
            "Baggage handling                     0\n",
            "Checkin service                      0\n",
            "Inflight service                     0\n",
            "Cleanliness                          0\n",
            "Departure Delay in Minutes           0\n",
            "Arrival Delay in Minutes             0\n",
            "satisfaction                         0\n",
            "dtype: int64\n"
          ],
          "name": "stdout"
        }
      ]
    },
    {
      "cell_type": "markdown",
      "metadata": {
        "_uuid": "d226ea9b-b2ed-43b2-95e8-814e4db9d56d",
        "_cell_guid": "c8f0f95a-195e-4c6c-a385-45b68e37c48a",
        "trusted": true,
        "id": "aHVBdR88Qh2v",
        "colab_type": "text"
      },
      "source": [
        "For test"
      ]
    },
    {
      "cell_type": "code",
      "metadata": {
        "_uuid": "81178695-ed13-48d0-a6e5-dfaf10ca7bd3",
        "_cell_guid": "b3c64c4c-d30f-4cbc-9520-a39e4d60b1ba",
        "trusted": true,
        "id": "beI0c2vDQh2w",
        "colab_type": "code",
        "colab": {
          "base_uri": "https://localhost:8080/",
          "height": 34
        },
        "outputId": "dbfdf8b4-321c-4e59-8630-940a29d4dfe9"
      },
      "source": [
        "\n",
        "\n",
        "feature=['satisfaction']\n",
        "y_train=train_df[feature].to_numpy()\n",
        "X_train=train_df.drop(feature,axis=1)\n",
        "y_test=test_df[feature].to_numpy()\n",
        "X_test=test_df.drop(feature,axis=1)\n",
        "\n",
        "\n",
        "\n",
        "y_train.shape ,X_train.shape ,y_test.shape , X_test.shape"
      ],
      "execution_count": 29,
      "outputs": [
        {
          "output_type": "execute_result",
          "data": {
            "text/plain": [
              "((103904, 1), (103904, 27), (25976, 1), (25976, 27))"
            ]
          },
          "metadata": {
            "tags": []
          },
          "execution_count": 29
        }
      ]
    },
    {
      "cell_type": "code",
      "metadata": {
        "_uuid": "588ac0d0-c106-4612-b8a7-ec5dad150aa3",
        "_cell_guid": "d4519617-2990-4fb9-8749-1862af213520",
        "trusted": true,
        "id": "IXbhzEt7Qh2z",
        "colab_type": "code",
        "colab": {}
      },
      "source": [
        "X_train.shape,y_train.shape,X_test.shape,y_test.shape\n",
        "\n",
        "from sklearn.preprocessing import StandardScaler\n",
        "# Normalize Features\n",
        "scaler = StandardScaler()\n",
        "X_train = scaler.fit_transform(X_train)\n",
        "X_test = scaler.fit_transform(X_test)"
      ],
      "execution_count": 30,
      "outputs": []
    },
    {
      "cell_type": "markdown",
      "metadata": {
        "_uuid": "96cab413-587e-408c-9675-92219a107f6c",
        "_cell_guid": "29b3a621-3c40-4594-a0c4-92286dc5b0ae",
        "trusted": true,
        "id": "mYcWvMhlQh21",
        "colab_type": "text"
      },
      "source": [
        "ML libraries we will use"
      ]
    },
    {
      "cell_type": "code",
      "metadata": {
        "_uuid": "7b0b985d-8e24-469f-a20f-3df1ad64030e",
        "_cell_guid": "e7029162-5539-4ef7-84dd-d2f020fdf6c6",
        "trusted": true,
        "id": "Fkf-6YFZQh22",
        "colab_type": "code",
        "colab": {}
      },
      "source": [
        "# machine learning\n",
        "from sklearn.linear_model import LogisticRegression\n",
        "from sklearn.svm import SVC, LinearSVC\n",
        "from sklearn.ensemble import RandomForestClassifier\n",
        "from sklearn.neighbors import KNeighborsClassifier\n",
        "from sklearn.naive_bayes import GaussianNB\n",
        "from sklearn.linear_model import Perceptron\n",
        "from sklearn.linear_model import SGDClassifier\n",
        "from sklearn.tree import DecisionTreeClassifier"
      ],
      "execution_count": 31,
      "outputs": []
    },
    {
      "cell_type": "code",
      "metadata": {
        "_uuid": "819102e0-50a0-431a-8794-d5d464e9b121",
        "_cell_guid": "f6a9f980-c7d7-48b4-b7c6-b30fcac0796c",
        "trusted": true,
        "id": "aT9cjVRPQh24",
        "colab_type": "code",
        "colab": {}
      },
      "source": [
        "Y_train=y_train\n",
        "Y_test=y_test\n",
        "from sklearn.metrics import mean_absolute_error"
      ],
      "execution_count": 32,
      "outputs": []
    },
    {
      "cell_type": "code",
      "metadata": {
        "_uuid": "f5ca5e35-51be-43b9-ac56-fabce9a5c4e5",
        "_cell_guid": "269fa269-ef85-434b-83e9-69040a1ec5d6",
        "trusted": true,
        "id": "ywI0S5WHQh26",
        "colab_type": "code",
        "colab": {
          "base_uri": "https://localhost:8080/",
          "height": 88
        },
        "outputId": "fc995b1e-e2d6-42b8-c62b-68f1a33f5474"
      },
      "source": [
        "# Logistic Regression\n",
        "\n",
        "logreg = LogisticRegression(max_iter=100,tol=0.01)\n",
        "logreg.fit(X_train, Y_train)\n",
        "Y_pred = logreg.predict(X_test)\n",
        "acc_log = round(mean_absolute_error(Y_test,Y_pred) * 100, 2)\n",
        "acc_log"
      ],
      "execution_count": 33,
      "outputs": [
        {
          "output_type": "stream",
          "text": [
            "/usr/local/lib/python3.6/dist-packages/sklearn/utils/validation.py:760: DataConversionWarning: A column-vector y was passed when a 1d array was expected. Please change the shape of y to (n_samples, ), for example using ravel().\n",
            "  y = column_or_1d(y, warn=True)\n"
          ],
          "name": "stderr"
        },
        {
          "output_type": "execute_result",
          "data": {
            "text/plain": [
              "12.79"
            ]
          },
          "metadata": {
            "tags": []
          },
          "execution_count": 33
        }
      ]
    },
    {
      "cell_type": "code",
      "metadata": {
        "_uuid": "d8182452-e2f4-4462-94ad-632c74cdc3cd",
        "_cell_guid": "5b82c62c-1828-40e1-ba06-4fe504afdb3d",
        "trusted": true,
        "id": "onU4J_zeQh28",
        "colab_type": "code",
        "colab": {
          "base_uri": "https://localhost:8080/",
          "height": 88
        },
        "outputId": "f0efaa56-a8bd-45fc-daf5-e05edb2075c9"
      },
      "source": [
        "# Support Vector Machines\n",
        "\n",
        "svc = SVC()\n",
        "svc.fit(X_train, Y_train)\n",
        "Y_pred = svc.predict(X_test)\n",
        "acc_svc = round(mean_absolute_error(Y_test,Y_pred) * 100, 2)\n",
        "\n",
        "acc_svc"
      ],
      "execution_count": 34,
      "outputs": [
        {
          "output_type": "stream",
          "text": [
            "/usr/local/lib/python3.6/dist-packages/sklearn/utils/validation.py:760: DataConversionWarning: A column-vector y was passed when a 1d array was expected. Please change the shape of y to (n_samples, ), for example using ravel().\n",
            "  y = column_or_1d(y, warn=True)\n"
          ],
          "name": "stderr"
        },
        {
          "output_type": "execute_result",
          "data": {
            "text/plain": [
              "4.57"
            ]
          },
          "metadata": {
            "tags": []
          },
          "execution_count": 34
        }
      ]
    },
    {
      "cell_type": "code",
      "metadata": {
        "_uuid": "b3e5b9e6-598a-4443-8144-82a1ae2968b1",
        "_cell_guid": "1ad73218-866f-432d-9bb3-964d4f0444de",
        "trusted": true,
        "id": "z5tikNDWQh2-",
        "colab_type": "code",
        "colab": {
          "base_uri": "https://localhost:8080/",
          "height": 88
        },
        "outputId": "94f71d1e-2084-4d10-f78f-32976f28a643"
      },
      "source": [
        "# KNeighborsClassifier\n",
        "knn = KNeighborsClassifier(n_neighbors = 2)\n",
        "knn.fit(X_train, Y_train)\n",
        "Y_pred = knn.predict(X_test)\n",
        "acc_knn = round(mean_absolute_error(Y_test,Y_pred) * 100, 2)\n",
        "acc_knn"
      ],
      "execution_count": 35,
      "outputs": [
        {
          "output_type": "stream",
          "text": [
            "/usr/local/lib/python3.6/dist-packages/ipykernel_launcher.py:3: DataConversionWarning: A column-vector y was passed when a 1d array was expected. Please change the shape of y to (n_samples, ), for example using ravel().\n",
            "  This is separate from the ipykernel package so we can avoid doing imports until\n"
          ],
          "name": "stderr"
        },
        {
          "output_type": "execute_result",
          "data": {
            "text/plain": [
              "8.99"
            ]
          },
          "metadata": {
            "tags": []
          },
          "execution_count": 35
        }
      ]
    },
    {
      "cell_type": "code",
      "metadata": {
        "_uuid": "abc84b80-d997-46b3-8a25-8b440cad68b0",
        "_cell_guid": "08ab89bb-b6fd-4ea6-8626-6fe138ad9d96",
        "trusted": true,
        "id": "YJJ_wC-9Qh3B",
        "colab_type": "code",
        "colab": {
          "base_uri": "https://localhost:8080/",
          "height": 88
        },
        "outputId": "a0cac4d5-6da9-4fa3-c49d-8a8f50b260f7"
      },
      "source": [
        "# Perceptron\n",
        "\n",
        "perceptron = Perceptron()\n",
        "perceptron.fit(X_train, Y_train)\n",
        "Y_pred = perceptron.predict(X_test)\n",
        "acc_perceptron = round(mean_absolute_error(Y_test,Y_pred) * 100, 2)\n",
        "acc_perceptron"
      ],
      "execution_count": 36,
      "outputs": [
        {
          "output_type": "stream",
          "text": [
            "/usr/local/lib/python3.6/dist-packages/sklearn/utils/validation.py:760: DataConversionWarning: A column-vector y was passed when a 1d array was expected. Please change the shape of y to (n_samples, ), for example using ravel().\n",
            "  y = column_or_1d(y, warn=True)\n"
          ],
          "name": "stderr"
        },
        {
          "output_type": "execute_result",
          "data": {
            "text/plain": [
              "16.81"
            ]
          },
          "metadata": {
            "tags": []
          },
          "execution_count": 36
        }
      ]
    },
    {
      "cell_type": "code",
      "metadata": {
        "_uuid": "1e90ce74-33d9-409a-9f2b-f84d6303827f",
        "_cell_guid": "d18045e5-cc26-48ce-a0cb-321ff183d991",
        "trusted": true,
        "id": "SB2RJTJ3Qh3D",
        "colab_type": "code",
        "colab": {
          "base_uri": "https://localhost:8080/",
          "height": 122
        },
        "outputId": "59df51b8-78cf-433b-d485-b17725314b98"
      },
      "source": [
        "# Linear SVC\n",
        "\n",
        "linear_svc = LinearSVC()\n",
        "linear_svc.fit(X_train, Y_train)\n",
        "Y_pred = linear_svc.predict(X_test)\n",
        "acc_linear_svc = round(mean_absolute_error(Y_test,Y_pred) * 100, 2)\n",
        "acc_linear_svc"
      ],
      "execution_count": 43,
      "outputs": [
        {
          "output_type": "stream",
          "text": [
            "/usr/local/lib/python3.6/dist-packages/sklearn/utils/validation.py:760: DataConversionWarning: A column-vector y was passed when a 1d array was expected. Please change the shape of y to (n_samples, ), for example using ravel().\n",
            "  y = column_or_1d(y, warn=True)\n",
            "/usr/local/lib/python3.6/dist-packages/sklearn/svm/_base.py:947: ConvergenceWarning: Liblinear failed to converge, increase the number of iterations.\n",
            "  \"the number of iterations.\", ConvergenceWarning)\n"
          ],
          "name": "stderr"
        },
        {
          "output_type": "execute_result",
          "data": {
            "text/plain": [
              "12.9"
            ]
          },
          "metadata": {
            "tags": []
          },
          "execution_count": 43
        }
      ]
    },
    {
      "cell_type": "code",
      "metadata": {
        "_uuid": "f730d3a4-ef29-48ea-9412-198a38da2cd8",
        "_cell_guid": "c1e2d8b4-38b5-4c3d-8e21-918441862677",
        "trusted": true,
        "id": "-7AeUl1uQh3F",
        "colab_type": "code",
        "colab": {
          "base_uri": "https://localhost:8080/",
          "height": 88
        },
        "outputId": "65b0a02c-17ed-422b-aa51-e60af59bb58d"
      },
      "source": [
        "# Stochastic Gradient Descent\n",
        "\n",
        "sgd = SGDClassifier()\n",
        "sgd.fit(X_train, Y_train)\n",
        "Y_pred = sgd.predict(X_test)\n",
        "acc_sgd = round(mean_absolute_error(Y_test,Y_pred) * 100, 2)\n",
        "acc_sgd"
      ],
      "execution_count": 38,
      "outputs": [
        {
          "output_type": "stream",
          "text": [
            "/usr/local/lib/python3.6/dist-packages/sklearn/utils/validation.py:760: DataConversionWarning: A column-vector y was passed when a 1d array was expected. Please change the shape of y to (n_samples, ), for example using ravel().\n",
            "  y = column_or_1d(y, warn=True)\n"
          ],
          "name": "stderr"
        },
        {
          "output_type": "execute_result",
          "data": {
            "text/plain": [
              "13.04"
            ]
          },
          "metadata": {
            "tags": []
          },
          "execution_count": 38
        }
      ]
    },
    {
      "cell_type": "code",
      "metadata": {
        "_uuid": "78b3f5eb-3508-48d2-8661-b5dc3e86f928",
        "_cell_guid": "11169a64-1957-4181-998c-25337398d1e3",
        "trusted": true,
        "id": "68q4Rg4XQh3H",
        "colab_type": "code",
        "colab": {
          "base_uri": "https://localhost:8080/",
          "height": 34
        },
        "outputId": "66b3197e-1630-472b-8548-a670b35e5bb7"
      },
      "source": [
        "# Decision Tree\n",
        "\n",
        "decision_tree = DecisionTreeClassifier()\n",
        "decision_tree.fit(X_train, Y_train)\n",
        "Y_pred = decision_tree.predict(X_test)\n",
        "acc_decision_tree = round(mean_absolute_error(Y_test,Y_pred) * 100, 2)\n",
        "acc_decision_tree"
      ],
      "execution_count": 39,
      "outputs": [
        {
          "output_type": "execute_result",
          "data": {
            "text/plain": [
              "5.27"
            ]
          },
          "metadata": {
            "tags": []
          },
          "execution_count": 39
        }
      ]
    },
    {
      "cell_type": "code",
      "metadata": {
        "_uuid": "fb9e9e66-1876-4b37-b00d-74322af3fae9",
        "_cell_guid": "0b9b77cd-46fd-4320-b8fb-b46d3562e0ad",
        "trusted": true,
        "id": "HXJXhj1vQh3K",
        "colab_type": "code",
        "colab": {
          "base_uri": "https://localhost:8080/",
          "height": 88
        },
        "outputId": "42554ff0-38b6-4068-b1f4-6b1c138153d9"
      },
      "source": [
        "# Random Forest\n",
        "\n",
        "random_forest = RandomForestClassifier(n_estimators=100)\n",
        "random_forest.fit(X_train, Y_train)\n",
        "Y_pred = random_forest.predict(X_test)\n",
        "acc_random_forest = round(mean_absolute_error(Y_test,Y_pred) * 100, 2)\n",
        "acc_random_forest"
      ],
      "execution_count": 40,
      "outputs": [
        {
          "output_type": "stream",
          "text": [
            "/usr/local/lib/python3.6/dist-packages/ipykernel_launcher.py:4: DataConversionWarning: A column-vector y was passed when a 1d array was expected. Please change the shape of y to (n_samples,), for example using ravel().\n",
            "  after removing the cwd from sys.path.\n"
          ],
          "name": "stderr"
        },
        {
          "output_type": "execute_result",
          "data": {
            "text/plain": [
              "3.7"
            ]
          },
          "metadata": {
            "tags": []
          },
          "execution_count": 40
        }
      ]
    },
    {
      "cell_type": "code",
      "metadata": {
        "_uuid": "bfc2e18c-b09b-44d0-8cae-1b464d3aa4fe",
        "_cell_guid": "264bb4f9-b7ce-44a2-bb4a-7618962783fe",
        "trusted": true,
        "id": "kXLVidjTQh3N",
        "colab_type": "code",
        "colab": {
          "base_uri": "https://localhost:8080/",
          "height": 71
        },
        "outputId": "683f757d-8eb8-442e-b370-63ed3b405917"
      },
      "source": [
        "from xgboost import XGBRegressor\n",
        "\n",
        "my_model = XGBRegressor()\n",
        "my_model.fit(X_train, Y_train)\n",
        "Y_pred = my_model.predict(X_test)\n",
        "XGBacc = round(mean_absolute_error(Y_test,Y_pred) * 100, 2)\n",
        "XGBacc"
      ],
      "execution_count": 41,
      "outputs": [
        {
          "output_type": "stream",
          "text": [
            "[16:21:37] WARNING: /workspace/src/objective/regression_obj.cu:152: reg:linear is now deprecated in favor of reg:squarederror.\n"
          ],
          "name": "stdout"
        },
        {
          "output_type": "execute_result",
          "data": {
            "text/plain": [
              "13.3"
            ]
          },
          "metadata": {
            "tags": []
          },
          "execution_count": 41
        }
      ]
    },
    {
      "cell_type": "code",
      "metadata": {
        "_uuid": "699d139d-756d-48af-bb51-82fe8814ec3f",
        "_cell_guid": "5bb4ed97-1037-4cd8-a1dc-9b1a90b42ec0",
        "trusted": true,
        "id": "WRhOCf2dQh3S",
        "colab_type": "code",
        "colab": {
          "base_uri": "https://localhost:8080/",
          "height": 328
        },
        "outputId": "a9b4c700-6360-4a0b-82ef-31859badc8ab"
      },
      "source": [
        "models = pd.DataFrame({\n",
        "    'Model': ['Support Vector Machines', 'KNN', 'Logistic Regression', \n",
        "              'Random Forest', 'Perceptron', \n",
        "              'Stochastic Gradient Decent', 'Linear SVC', \n",
        "              'Decision Tree','XGBRegressor'],\n",
        "    'Score': [acc_svc, acc_knn, acc_log, \n",
        "              acc_random_forest, acc_perceptron, \n",
        "              acc_sgd, acc_linear_svc, acc_decision_tree,XGBacc]})\n",
        "models.sort_values(by='Score', ascending=True)"
      ],
      "execution_count": 44,
      "outputs": [
        {
          "output_type": "execute_result",
          "data": {
            "text/html": [
              "<div>\n",
              "<style scoped>\n",
              "    .dataframe tbody tr th:only-of-type {\n",
              "        vertical-align: middle;\n",
              "    }\n",
              "\n",
              "    .dataframe tbody tr th {\n",
              "        vertical-align: top;\n",
              "    }\n",
              "\n",
              "    .dataframe thead th {\n",
              "        text-align: right;\n",
              "    }\n",
              "</style>\n",
              "<table border=\"1\" class=\"dataframe\">\n",
              "  <thead>\n",
              "    <tr style=\"text-align: right;\">\n",
              "      <th></th>\n",
              "      <th>Model</th>\n",
              "      <th>Score</th>\n",
              "    </tr>\n",
              "  </thead>\n",
              "  <tbody>\n",
              "    <tr>\n",
              "      <th>3</th>\n",
              "      <td>Random Forest</td>\n",
              "      <td>3.70</td>\n",
              "    </tr>\n",
              "    <tr>\n",
              "      <th>0</th>\n",
              "      <td>Support Vector Machines</td>\n",
              "      <td>4.57</td>\n",
              "    </tr>\n",
              "    <tr>\n",
              "      <th>7</th>\n",
              "      <td>Decision Tree</td>\n",
              "      <td>5.27</td>\n",
              "    </tr>\n",
              "    <tr>\n",
              "      <th>1</th>\n",
              "      <td>KNN</td>\n",
              "      <td>8.99</td>\n",
              "    </tr>\n",
              "    <tr>\n",
              "      <th>2</th>\n",
              "      <td>Logistic Regression</td>\n",
              "      <td>12.79</td>\n",
              "    </tr>\n",
              "    <tr>\n",
              "      <th>6</th>\n",
              "      <td>Linear SVC</td>\n",
              "      <td>12.90</td>\n",
              "    </tr>\n",
              "    <tr>\n",
              "      <th>5</th>\n",
              "      <td>Stochastic Gradient Decent</td>\n",
              "      <td>13.04</td>\n",
              "    </tr>\n",
              "    <tr>\n",
              "      <th>8</th>\n",
              "      <td>XGBRegressor</td>\n",
              "      <td>13.30</td>\n",
              "    </tr>\n",
              "    <tr>\n",
              "      <th>4</th>\n",
              "      <td>Perceptron</td>\n",
              "      <td>16.81</td>\n",
              "    </tr>\n",
              "  </tbody>\n",
              "</table>\n",
              "</div>"
            ],
            "text/plain": [
              "                        Model  Score\n",
              "3               Random Forest   3.70\n",
              "0     Support Vector Machines   4.57\n",
              "7               Decision Tree   5.27\n",
              "1                         KNN   8.99\n",
              "2         Logistic Regression  12.79\n",
              "6                  Linear SVC  12.90\n",
              "5  Stochastic Gradient Decent  13.04\n",
              "8                XGBRegressor  13.30\n",
              "4                  Perceptron  16.81"
            ]
          },
          "metadata": {
            "tags": []
          },
          "execution_count": 44
        }
      ]
    },
    {
      "cell_type": "code",
      "metadata": {
        "_uuid": "dbd61428-17ba-4097-b2d2-0bb2d30a1491",
        "_cell_guid": "361cf2ac-afe3-4cf9-badb-8a8b09b667e8",
        "trusted": true,
        "id": "BG3tIrVNQh3U",
        "colab_type": "code",
        "colab": {
          "base_uri": "https://localhost:8080/",
          "height": 282
        },
        "outputId": "5f99c51d-34aa-4881-b397-867645dbde8a"
      },
      "source": [
        "import matplotlib.pyplot as plt\n",
        "plt.barh(models['Model'],models['Score'])"
      ],
      "execution_count": 45,
      "outputs": [
        {
          "output_type": "execute_result",
          "data": {
            "text/plain": [
              "<BarContainer object of 9 artists>"
            ]
          },
          "metadata": {
            "tags": []
          },
          "execution_count": 45
        },
        {
          "output_type": "display_data",
          "data": {
            "image/png": "[encoded data removed]",
            "text/plain": [
              "<Figure size 432x288 with 1 Axes>"
            ]
          },
          "metadata": {
            "tags": [],
            "needs_background": "light"
          }
        }
      ]
    },
    {
      "cell_type": "markdown",
      "metadata": {
        "_uuid": "5b1caf5b-c955-476c-9e21-df2871d8d7e5",
        "_cell_guid": "af351a36-69c5-4b5c-9714-52d450a0ee75",
        "trusted": true,
        "id": "cKEFFKc7Qh3Y",
        "colab_type": "text"
      },
      "source": [
        "# Random Forest is the best"
      ]
    },
    {
      "cell_type": "code",
      "metadata": {
        "_uuid": "53abc486-c4ec-457e-9b69-50baa33e8c8c",
        "_cell_guid": "60e292ae-c0e8-4c2d-bc51-5487d4b42288",
        "trusted": true,
        "id": "AC-GlkBFQh3Y",
        "colab_type": "code",
        "colab": {}
      },
      "source": [
        "data=pd.read_csv('/content/test[1].csv')"
      ],
      "execution_count": 46,
      "outputs": []
    },
    {
      "cell_type": "code",
      "metadata": {
        "_uuid": "f31664e7-8e5d-4bb7-9dbb-d427bc5f119a",
        "_cell_guid": "7c0c1884-611a-4acf-bc30-ddb4ddf85d49",
        "trusted": true,
        "id": "ngSvPzLBQh3f",
        "colab_type": "code",
        "colab": {}
      },
      "source": [
        "submission = pd.DataFrame({\n",
        "        \"PassengerId\": data['id'],\n",
        "        \"Survived\": Y_pred\n",
        "    })\n",
        "submission.to_csv('submission.csv', index=False)"
      ],
      "execution_count": 47,
      "outputs": []
    }
  ]
}